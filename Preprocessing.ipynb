{
 "cells": [
  {
   "cell_type": "code",
   "execution_count": 25,
   "id": "6fb07d8f",
   "metadata": {},
   "outputs": [],
   "source": [
    "import numpy as np\n",
    "import pandas as pd"
   ]
  },
  {
   "cell_type": "markdown",
   "id": "a7d280d1",
   "metadata": {},
   "source": [
    "(a) We first load the data from the file\n"
   ]
  },
  {
   "cell_type": "code",
   "execution_count": 26,
   "id": "9943ea9e",
   "metadata": {},
   "outputs": [],
   "source": [
    "def getData():\n",
    "    data = np.array(pd.read_csv(\"car.data\",header=None))\n",
    "    return data"
   ]
  },
  {
   "cell_type": "markdown",
   "id": "a11828c1",
   "metadata": {},
   "source": [
    "(b) We are now going to encode the data<br>\n",
    "\n",
    "For the targets the encoding will be as follows:<br>\n",
    "\n",
    "    - Unacceptable would be denoted by 0\n",
    "    - Acceptable would be denoted by 1\n",
    "    - Good would be denoted by 2\n",
    "    - Very Good would be denoted by 3\n",
    "\n",
    "Now we encode the features:<br>\n",
    "\n",
    "For the Purchasing price and Maintenance cost the encoding will be as follows:\n",
    "    \n",
    "    - Low = 0 \n",
    "    - Medium = 1\n",
    "    - High = 2\n",
    "    - Very High = 3\n",
    "    \n",
    "For the size of the boot and safety of the car the encoding is as follows:\n",
    "\n",
    "    - Small/Low = 0\n",
    "    - Medium = 1\n",
    "    - Big/High = 2\n",
    "    \n",
    "For the number of doors the encoding is as follows:\n",
    "\n",
    "    - 2 doors = 0\n",
    "    - 3 doors = 1\n",
    "    - 4 doors = 2\n",
    "    - 5 or more doors = 3\n",
    "    \n",
    "For the number of people that can be seated the encoding is as follows:\n",
    "\n",
    "    - 2 people = 0\n",
    "    - 4 people = 1\n",
    "    - More than 4 = 2"
   ]
  },
  {
   "cell_type": "code",
   "execution_count": 27,
   "id": "80f9c13c",
   "metadata": {},
   "outputs": [],
   "source": [
    "def encode(data):\n",
    "    targets =np.array(data[:,6])\n",
    "\n",
    "    targets[targets == 'unacc'] = 0\n",
    "    targets[targets == 'acc'] = 1\n",
    "    targets[targets == 'good'] = 2\n",
    "    targets[targets == 'vgood'] = 3\n",
    "\n",
    "    data[:,6] = targets\n",
    "\n",
    "    PurchasingPrice = np.array(data[:,0])\n",
    "    MaintenanceCost = np.array(data[:,1])\n",
    "\n",
    "    PurchasingPrice[PurchasingPrice == 'low'] = 0\n",
    "    PurchasingPrice[PurchasingPrice == 'med'] = 1\n",
    "    PurchasingPrice[PurchasingPrice == 'high'] = 2\n",
    "    PurchasingPrice[PurchasingPrice == 'vhigh'] = 3\n",
    "\n",
    "    MaintenanceCost[MaintenanceCost == 'low'] = 0\n",
    "    MaintenanceCost[MaintenanceCost == 'med'] = 1\n",
    "    MaintenanceCost[MaintenanceCost == 'high'] = 2\n",
    "    MaintenanceCost[MaintenanceCost == 'vhigh'] = 3\n",
    "\n",
    "    data[:,0] = PurchasingPrice\n",
    "    data[:,1] = MaintenanceCost\n",
    "\n",
    "    BootSize = np.array(data[:,4])\n",
    "    Safety = np.array(data[:,5])\n",
    "\n",
    "    BootSize[BootSize == 'small'] = 0\n",
    "    BootSize[BootSize == 'med'] = 1\n",
    "    BootSize[BootSize == 'big'] = 2\n",
    "\n",
    "    Safety[Safety == 'low'] = 0\n",
    "    Safety[Safety == 'med'] = 1\n",
    "    Safety[Safety == 'high'] = 2\n",
    "\n",
    "    data[:,4] = BootSize\n",
    "    data[:,5] = Safety\n",
    "\n",
    "    Doors = np.array(data[:,2])\n",
    "\n",
    "    Doors[Doors == '2'] = 0\n",
    "    Doors[Doors == '3'] = 1\n",
    "    Doors[Doors == '4'] = 2\n",
    "    Doors[Doors == '5more'] = 3\n",
    "\n",
    "    data[:,2] = Doors\n",
    "\n",
    "    Seats = np.array(data[:,3])\n",
    "\n",
    "    Seats[Seats == '2'] = 0\n",
    "    Seats[Seats == '4'] = 1\n",
    "    Seats[Seats == 'more'] = 2\n",
    "\n",
    "    data[:,3] = Seats\n",
    "    np.random.shuffle(data)\n",
    "    return data"
   ]
  },
  {
   "cell_type": "code",
   "execution_count": 28,
   "id": "11de3c2f",
   "metadata": {},
   "outputs": [],
   "source": [
    "def ReturnData():\n",
    "    data = getData()\n",
    "    encodedData = encode(data)\n",
    "    TrainX = encodedData[:1037,:6]\n",
    "    TrainY = encodedData[:1037,6]\n",
    "    ValidationX = encodedData[1037:1383,:6]\n",
    "    ValidationY = encodedData[1037:1383,6]\n",
    "    TestX = encodedData[1383:1728,:6]\n",
    "    TestY = encodedData[1383:1728,6]\n",
    "    Train=[TrainX,TrainY]\n",
    "    Validation = [ValidationX,ValidationY]\n",
    "    Test = [TestX,TestY]\n",
    "    return [Train,Validation,Test]"
   ]
  }
 ],
 "metadata": {
  "kernelspec": {
   "display_name": "Python 3",
   "language": "python",
   "name": "python3"
  },
  "language_info": {
   "codemirror_mode": {
    "name": "ipython",
    "version": 3
   },
   "file_extension": ".py",
   "mimetype": "text/x-python",
   "name": "python",
   "nbconvert_exporter": "python",
   "pygments_lexer": "ipython3",
   "version": "3.7.10"
  }
 },
 "nbformat": 4,
 "nbformat_minor": 5
}
