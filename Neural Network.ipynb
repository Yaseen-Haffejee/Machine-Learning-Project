{
 "cells": [
  {
   "cell_type": "code",
   "execution_count": 28,
   "id": "393bded6",
   "metadata": {},
   "outputs": [],
   "source": [
    "from ipynb.fs.full.Preprocessing import ReturnData,getData\n",
    "from sklearn import metrics\n",
    "import numpy as np\n",
    "import matplotlib.pyplot as plt\n",
    "import seaborn as sns\n",
    "import time\n",
    "sns.set()"
   ]
  },
  {
   "cell_type": "code",
   "execution_count": 29,
   "id": "8469902e",
   "metadata": {},
   "outputs": [],
   "source": [
    "def one_hot_encode(x):\n",
    "    \n",
    "    targets = []\n",
    "    unique  = 4\n",
    "    for t in x:\n",
    "        ans = np.zeros(unique)\n",
    "        ans[t] = 1\n",
    "        targets.append(ans)\n",
    "   \n",
    "    return np.array(targets)\n",
    "    \n"
   ]
  },
  {
   "cell_type": "code",
   "execution_count": 57,
   "id": "66a3f74c",
   "metadata": {},
   "outputs": [],
   "source": [
    "allData = ReturnData()\n",
    "\n",
    "TrainX = allData[0][0]\n",
    "TrainY = one_hot_encode(allData[0][1])\n",
    "ValidationX = allData[1][0]\n",
    "ValidationY = allData[1][1]\n",
    "TestX = allData[2][0]\n",
    "TestY = allData[2][1]"
   ]
  },
  {
   "cell_type": "markdown",
   "id": "152788c5",
   "metadata": {},
   "source": [
    "Initializing a Neural Network with 7 Nodes in the first layer, 8 Nodes in the second layer and 4 output nodes."
   ]
  },
  {
   "cell_type": "code",
   "execution_count": 31,
   "id": "bf56c429",
   "metadata": {},
   "outputs": [
    {
     "name": "stderr",
     "output_type": "stream",
     "text": [
      "/home/yaseen/anaconda3/lib/python3.7/site-packages/numpy/lib/function_base.py:793: VisibleDeprecationWarning: Creating an ndarray from ragged nested sequences (which is a list-or-tuple of lists-or-tuples-or ndarrays with different lengths or shapes) is deprecated. If you meant to do this, you must specify 'dtype=object' when creating the ndarray.\n",
      "  return array(a, order=order, subok=subok, copy=True)\n"
     ]
    }
   ],
   "source": [
    "def init_layer(x,y):\n",
    "    \n",
    "    weight_matrix = np.random.rand(x,y)\n",
    "    bias_vector  = np.ones((y,1))\n",
    "    \n",
    "    return [weight_matrix,bias_vector]\n",
    "\n",
    "def init_network(neurons):\n",
    "    length  = len(neurons)-1\n",
    "    layers = []\n",
    "    for i in range(length):\n",
    "        x = neurons[i]\n",
    "        y = neurons[i+1]\n",
    "        layers.append(init_layer(x,y))\n",
    "        \n",
    "    return layers\n",
    "\n",
    "my_network = init_network([7,8,4])\n",
    "initial = np.copy(my_network)\n",
    "network1 = np.copy(my_network)\n",
    "network2 = np.copy(my_network)"
   ]
  },
  {
   "cell_type": "markdown",
   "id": "3741dada",
   "metadata": {},
   "source": [
    "We will be using a sigmoid as the activation function for the first layer and a softmax as the activation in the final layer."
   ]
  },
  {
   "cell_type": "code",
   "execution_count": 32,
   "id": "f362d6e9",
   "metadata": {},
   "outputs": [],
   "source": [
    "def sigmoid(x):\n",
    "    \n",
    "    y = 1/(1+np.exp(-x))\n",
    "    return y\n",
    "\n",
    "def softmax(x):\n",
    "    \n",
    "    e = np.exp(x)\n",
    "    probs = e/np.sum(e)\n",
    "    return probs\n",
    "\n",
    "def Max(x):\n",
    "    \n",
    "    result = np.where(x == np.amax(x))[0]\n",
    "    \n",
    "    return result[0]\n",
    "\n"
   ]
  },
  {
   "cell_type": "code",
   "execution_count": 33,
   "id": "bf821e17",
   "metadata": {},
   "outputs": [],
   "source": [
    "def ForwardPropogation(data,Network):\n",
    "    \n",
    "    Layers = len(Network)\n",
    "    \n",
    "    avalues = []\n",
    "    \n",
    "    for i in range(Layers):\n",
    "        \n",
    "        if(i==0):\n",
    "            a = data\n",
    "            avalues.append(np.insert(a,0,np.ones(1),axis=0))\n",
    "            Θ = Network[i][0]\n",
    "            z = sigmoid(np.dot(np.transpose(Θ),avalues[i]).astype('float'))\n",
    "            avalues.append(z)\n",
    "            \n",
    "        else:\n",
    "            a = avalues[i]\n",
    "            Θ = Network[i][0]\n",
    "            z = softmax(np.dot(np.transpose(Θ),a))\n",
    "            avalues.append(z)\n",
    "    \n",
    "    return avalues\n",
    "\n",
    "FP = ForwardPropogation(TrainX[0],my_network)"
   ]
  },
  {
   "cell_type": "code",
   "execution_count": 34,
   "id": "3a3826a0",
   "metadata": {},
   "outputs": [],
   "source": [
    "def FinalError(Predicted,Actual):\n",
    "    \n",
    "    return Predicted - Actual\n",
    "\n",
    "FE = FinalError(FP[len(FP)-1],TrainY[0])"
   ]
  },
  {
   "cell_type": "code",
   "execution_count": 35,
   "id": "3654d1a5",
   "metadata": {},
   "outputs": [],
   "source": [
    "def LayerError(activations,FinalError,Network):\n",
    "    \n",
    "    Layers = len(Network)\n",
    "    Errors = []\n",
    "    for i in range(Layers-1,0,-1):\n",
    "        Θ = Network[i][0]\n",
    "        dg = activations[i]*(1-activations[i])\n",
    "        a = np.matmul(Θ,np.transpose(FinalError))\n",
    "        δ = a*np.transpose(dg)\n",
    "        Errors.append(δ)\n",
    "    Errors.append(FinalError)\n",
    "    \n",
    "    return Errors\n",
    "LE = LayerError(FP,FE,my_network)"
   ]
  },
  {
   "cell_type": "code",
   "execution_count": 36,
   "id": "20955789",
   "metadata": {},
   "outputs": [],
   "source": [
    "def Gradient(Errors,activations):\n",
    "    \n",
    "    gradients = []\n",
    "    \n",
    "    for i in range(len(activations)-1):\n",
    "        δ = np.reshape(Errors[i],(len(Errors[i]),1))\n",
    "        a = np.reshape(activations[i],(len(activations[i]),1))\n",
    "        Δ = np.matmul(a,np.transpose(δ))\n",
    "        gradients.append(Δ)\n",
    "        \n",
    "    return gradients \n",
    "GR = Gradient(LE,FP)"
   ]
  },
  {
   "cell_type": "code",
   "execution_count": 37,
   "id": "dbdd75ad",
   "metadata": {},
   "outputs": [],
   "source": [
    "def weightUpdate(Network,Gradients,α):\n",
    "    \n",
    "    Layers = len(Network)\n",
    "    weights = []\n",
    "    for i in range(Layers):\n",
    "        Θ = np.copy(Network[i][0])\n",
    "        Δ = Gradients[i] ##(7x8)\n",
    "        step = α*Δ\n",
    "        Θ = np.subtract(Θ,step)\n",
    "        weights.append([Network[i][0],Θ])\n",
    "        Network[i][0] = Θ\n",
    "    \n",
    "    return weights\n",
    "\n",
    "WU = weightUpdate(my_network,GR,0.01)\n"
   ]
  },
  {
   "cell_type": "code",
   "execution_count": 38,
   "id": "f1a52ff7",
   "metadata": {},
   "outputs": [],
   "source": [
    "def TrainModel(Network,data,Targets,α,epochs,ϵ):\n",
    "    start = time.time()\n",
    "    c1 = 1\n",
    "    c2 = 1\n",
    "    it = 0\n",
    "    length = len(data)\n",
    "    while(epochs>0 and (c1 > ϵ or c2 > ϵ)):\n",
    "        \n",
    "        for i in range(length):\n",
    "            d = data[i]\n",
    "            forward_propogation = ForwardPropogation(d,Network)\n",
    "            final_errors = FinalError(forward_propogation[len(forward_propogation)-1],Targets[i])\n",
    "            layer_errors = LayerError(forward_propogation,final_errors,Network)\n",
    "            gradients = Gradient(layer_errors,forward_propogation)\n",
    "            weights = weightUpdate(Network,gradients,α)\n",
    "            \n",
    "        c1 = np.linalg.norm(weights[0][1]-weights[0][0])\n",
    "        c2 = np.linalg.norm(weights[1][1]-weights[1][0])\n",
    "        epochs-=1\n",
    "    end = time.time()\n",
    "    totaltime = end - start\n",
    "    return weights,totaltime\n",
    "\n",
    "newWeights = TrainModel(my_network,TrainX,TrainY,0.1,1000,0.05)"
   ]
  },
  {
   "cell_type": "code",
   "execution_count": 39,
   "id": "9a06278f",
   "metadata": {},
   "outputs": [],
   "source": [
    "def Predict(Network,Data):\n",
    "    \n",
    "    predicted = []\n",
    "    for d in Data:\n",
    "        predicted.append(Max(ForwardPropogation(d,Network)[2]))\n",
    "\n",
    "    return predicted\n",
    "        \n",
    "PR = Predict(my_network,ValidationX)\n",
    "\n"
   ]
  },
  {
   "cell_type": "code",
   "execution_count": 40,
   "id": "cdb5a072",
   "metadata": {},
   "outputs": [],
   "source": [
    "def ConfusionMatrix(Predicted,Actual,Unique):\n",
    "    \n",
    "    confusion_matrix = np.zeros((Unique,Unique))\n",
    "    length = len(Actual)\n",
    "    k = 4\n",
    "    if(type(Actual[0]) == int ):\n",
    "        k = 0\n",
    "    for i in range(length):\n",
    "        p = Predicted[i]\n",
    "        if(k>0):\n",
    "            a = np.where(Actual[i] == 1)[0][0]\n",
    "        else:\n",
    "            a = Actual[i]\n",
    "        confusion_matrix[a][p]+=1\n",
    "        \n",
    "    accuracy = np.sum(np.diag(confusion_matrix))/np.sum(confusion_matrix)\n",
    "    \n",
    "    return confusion_matrix,accuracy"
   ]
  },
  {
   "cell_type": "code",
   "execution_count": 41,
   "id": "c5dca323",
   "metadata": {},
   "outputs": [
    {
     "name": "stdout",
     "output_type": "stream",
     "text": [
      "The Confusion Matrix prior to training is:\n",
      " [[  0.   0. 711.   0.]\n",
      " [  0.   0. 239.   0.]\n",
      " [  0.   0.  44.   0.]\n",
      " [  0.   0.  43.   0.]]\n",
      "The Accuracy prior to training is: 4.243008678881389 % \n",
      "\n"
     ]
    }
   ],
   "source": [
    "ITP = Predict(initial,TrainX)\n",
    "ICM = ConfusionMatrix(ITP,TrainY,4)\n",
    "print(\"The Confusion Matrix prior to training is:\\n\",ICM[0])\n",
    "print(\"The Accuracy prior to training is:\",ICM[1]*100,\"% \\n\")\n"
   ]
  },
  {
   "cell_type": "code",
   "execution_count": 42,
   "id": "512c50d7",
   "metadata": {},
   "outputs": [
    {
     "name": "stdout",
     "output_type": "stream",
     "text": [
      "The Confusion Matrix after to training is:\n",
      " [[711.   0.   0.   0.]\n",
      " [239.   0.   0.   0.]\n",
      " [ 44.   0.   0.   0.]\n",
      " [ 43.   0.   0.   0.]]\n",
      "The Accuracy after training is: 68.56316297010608 %\n",
      "\n",
      "The time taken to Train the model is: 0.091033935546875\n"
     ]
    }
   ],
   "source": [
    "ATP = Predict(my_network,TrainX)\n",
    "ACM = ConfusionMatrix(ATP,TrainY,4)\n",
    "print(\"The Confusion Matrix after to training is:\\n\",ACM[0])\n",
    "print(\"The Accuracy after training is:\",ACM[1]*100,\"%\\n\")\n",
    "print(\"The time taken to Train the model is:\",newWeights[1])"
   ]
  },
  {
   "cell_type": "code",
   "execution_count": 43,
   "id": "fca75be0",
   "metadata": {},
   "outputs": [
    {
     "name": "stdout",
     "output_type": "stream",
     "text": [
      "The Confusion Matrix for the Validation data is:\n",
      " [[253.   0.   0.   0.]\n",
      " [ 71.   0.   0.   0.]\n",
      " [ 16.   0.   0.   0.]\n",
      " [  6.   0.   0.   0.]]\n",
      "The Accuracy is: 73.121387283237 %\n"
     ]
    }
   ],
   "source": [
    "V1P = Predict(my_network,ValidationX)\n",
    "V1CM = ConfusionMatrix(V1P,ValidationY,4)\n",
    "\n",
    "print(\"The Confusion Matrix for the Validation data is:\\n\",V1CM[0])\n",
    "print(\"The Accuracy is:\",V1CM[1]*100,\"%\")"
   ]
  },
  {
   "cell_type": "code",
   "execution_count": 44,
   "id": "cdcc062b",
   "metadata": {},
   "outputs": [
    {
     "name": "stdout",
     "output_type": "stream",
     "text": [
      "The Confusion Matrix for the Validation data is:\n",
      " [[  0.   0. 253.   0.]\n",
      " [  0.   0.  71.   0.]\n",
      " [  0.   0.  16.   0.]\n",
      " [  0.   0.   6.   0.]]\n",
      "The Accuracy is: 4.624277456647398 %\n",
      "\n",
      "The time taken to Train the model is: 0.09947776794433594\n"
     ]
    }
   ],
   "source": [
    "t1 = TrainModel(network1,TrainX,TrainY,0.0001,1000,0.05)\n",
    "V2P = Predict(network1,ValidationX)\n",
    "V2CM = ConfusionMatrix(V2P,ValidationY,4)\n",
    "\n",
    "print(\"The Confusion Matrix for the Validation data is:\\n\",V2CM[0])\n",
    "print(\"The Accuracy is:\",V2CM[1]*100,\"%\\n\")\n",
    "print(\"The time taken to Train the model is:\",t1[1])"
   ]
  },
  {
   "cell_type": "code",
   "execution_count": 45,
   "id": "7c509392",
   "metadata": {},
   "outputs": [
    {
     "name": "stdout",
     "output_type": "stream",
     "text": [
      "The Confusion Matrix for the Validation data is:\n",
      " [[246.   7.   0.   0.]\n",
      " [  8.  63.   0.   0.]\n",
      " [  0.   0.  14.   2.]\n",
      " [  0.   1.   0.   5.]]\n",
      "The Accuracy is: 94.79768786127167 %\n",
      "\n",
      "The time taken to Train the model is: 90.88841032981873\n"
     ]
    }
   ],
   "source": [
    "t2 = TrainModel(network2,TrainX,TrainY,0.1,1000,0.000000005)\n",
    "V3P = Predict(network2,ValidationX)\n",
    "V3CM = ConfusionMatrix(V3P,ValidationY,4)\n",
    "\n",
    "print(\"The Confusion Matrix for the Validation data is:\\n\",V3CM[0])\n",
    "print(\"The Accuracy is:\",V3CM[1]*100,\"%\\n\")\n",
    "print(\"The time taken to Train the model is:\",t2[1])"
   ]
  },
  {
   "cell_type": "code",
   "execution_count": 46,
   "id": "da3836aa",
   "metadata": {},
   "outputs": [
    {
     "name": "stdout",
     "output_type": "stream",
     "text": [
      "The Confusion Matrix for the Validation data is:\n",
      " [[251.   2.   0.   0.]\n",
      " [ 13.  57.   1.   0.]\n",
      " [  0.   0.  16.   0.]\n",
      " [  0.   0.   0.   6.]]\n",
      "The Accuracy is: 95.37572254335261 %\n",
      "\n",
      "The time taken to Train the model is: 31.498767375946045\n"
     ]
    }
   ],
   "source": [
    "network3 = init_network([7,10,4])\n",
    "t3 = TrainModel(network3,TrainX,TrainY,0.1,1000,0.000000005)\n",
    "V4P = Predict(network3,ValidationX)\n",
    "V4CM = ConfusionMatrix(V4P,ValidationY,4)\n",
    "\n",
    "print(\"The Confusion Matrix for the Validation data is:\\n\",V4CM[0])\n",
    "print(\"The Accuracy is:\",V4CM[1]*100,\"%\\n\")\n",
    "print(\"The time taken to Train the model is:\",t3[1])"
   ]
  },
  {
   "cell_type": "code",
   "execution_count": 59,
   "id": "d45d9024",
   "metadata": {},
   "outputs": [
    {
     "name": "stdout",
     "output_type": "stream",
     "text": [
      "The Confusion Matrix for the Validation data is:\n",
      " [[227.   7.   1.   0.]\n",
      " [ 11.  66.   2.   2.]\n",
      " [  0.   0.  13.   0.]\n",
      " [  0.   0.   0.  17.]]\n",
      "The Accuracy is: 93.35260115606935 %\n",
      "\n",
      "The time taken to Train the model is: 92.47370982170105\n"
     ]
    }
   ],
   "source": [
    "network4 = init_network([7,9,4])\n",
    "t4 = TrainModel(network4,TrainX,TrainY,0.1,1000,0.000000005)\n",
    "V5P = Predict(network4,ValidationX)\n",
    "V5CM = ConfusionMatrix(V5P,ValidationY,4)\n",
    "\n",
    "print(\"The Confusion Matrix for the Validation data is:\\n\",V5CM[0])\n",
    "print(\"The Accuracy is:\",V5CM[1]*100,\"%\\n\")\n",
    "print(\"The time taken to Train the model is:\",t4[1])"
   ]
  },
  {
   "cell_type": "markdown",
   "id": "08f4d9b1",
   "metadata": {},
   "source": [
    "Clearly the best network is network4 with 9 nodes in the hidden layer, a learning rate if 0.1 and threshold of 0.000000005"
   ]
  },
  {
   "cell_type": "code",
   "execution_count": 60,
   "id": "f46bc620",
   "metadata": {},
   "outputs": [
    {
     "name": "stdout",
     "output_type": "stream",
     "text": [
      "The Confusion Matrix for the Test data is:\n",
      " [[235.  12.   0.   0.]\n",
      " [  4.  69.   0.   0.]\n",
      " [  0.   0.  12.   0.]\n",
      " [  0.   2.   0.  11.]]\n",
      "The precision score is:  [0.9832636 0.8313253 1.        1.       ] \n",
      "\n",
      "The recall score is: [0.951417   0.94520548 1.         0.84615385] \n",
      "\n",
      "The Accuracy is: 94.78260869565217 %\n",
      "\n"
     ]
    }
   ],
   "source": [
    "TestP = Predict(network4,TestX)\n",
    "TestCM = ConfusionMatrix(TestP,TestY,4)\n",
    "print(\"The Confusion Matrix for the Test data is:\\n\",TestCM[0])\n",
    "print(\"The precision score is: \",metrics.precision_score(TestY.astype('int'),TestP,average=None),\"\\n\")\n",
    "print(\"The recall score is:\",metrics.recall_score(TestY.astype('int'),TestP,average=None),\"\\n\")\n",
    "print(\"The Accuracy is:\",TestCM[1]*100,\"%\\n\")"
   ]
  },
  {
   "cell_type": "code",
   "execution_count": 56,
   "id": "fadb8b11",
   "metadata": {},
   "outputs": [
    {
     "data": {
      "image/png": "[encoded data removed]",
      "text/plain": [
       "<Figure size 432x288 with 1 Axes>"
      ]
     },
     "metadata": {},
     "output_type": "display_data"
    }
   ],
   "source": [
    "plt.plot(np.arange(len(TestY)),TestY,label = \"Actual\")\n",
    "plt.plot(np.arange(len(TestY)),TestP,label = \"Predicted\",color=\"red\")\n",
    "plt.xlabel(\"data-point\")\n",
    "plt.ylabel(\"target\")\n",
    "plt.title(\"Predicted VS Actual\")\n",
    "plt.legend(loc = 'upper right')\n",
    "plt.show()\n",
    "plt.close()"
   ]
  }
 ],
 "metadata": {
  "kernelspec": {
   "display_name": "Python 3",
   "language": "python",
   "name": "python3"
  },
  "language_info": {
   "codemirror_mode": {
    "name": "ipython",
    "version": 3
   },
   "file_extension": ".py",
   "mimetype": "text/x-python",
   "name": "python",
   "nbconvert_exporter": "python",
   "pygments_lexer": "ipython3",
   "version": "3.7.10"
  }
 },
 "nbformat": 4,
 "nbformat_minor": 5
}
