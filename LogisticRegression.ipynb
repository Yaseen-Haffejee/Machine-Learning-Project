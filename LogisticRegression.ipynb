{
 "cells": [
  {
   "cell_type": "code",
   "execution_count": 129,
   "id": "68d8ffb2",
   "metadata": {},
   "outputs": [],
   "source": [
    "from ipynb.fs.full.Preprocessing import ReturnData,getData\n",
    "import numpy as np\n",
    "import matplotlib.pyplot as plt\n",
    "import seaborn as sns\n",
    "from sklearn import metrics\n",
    "sns.set()\n",
    "import time"
   ]
  },
  {
   "cell_type": "markdown",
   "id": "7dfdafb9",
   "metadata": {},
   "source": [
    "We are going to use the ReturnData() function from the Preprocessing file to get our data which is already split."
   ]
  },
  {
   "cell_type": "code",
   "execution_count": 130,
   "id": "c01e95ff",
   "metadata": {},
   "outputs": [],
   "source": [
    "\n",
    "allData = ReturnData()\n",
    "\n",
    "TrainX = allData[0][0]\n",
    "TrainY = allData[0][1]\n",
    "\n",
    "ValidationX = allData[1][0]\n",
    "ValidationY = allData[1][1]\n",
    "\n",
    "TestX = allData[2][0]\n",
    "TestY = allData[2][1]"
   ]
  },
  {
   "cell_type": "markdown",
   "id": "9280c024",
   "metadata": {},
   "source": [
    "Creating a design matrix where the first column will be the bias for each feature all represented by 1"
   ]
  },
  {
   "cell_type": "code",
   "execution_count": 131,
   "id": "27cbe980",
   "metadata": {},
   "outputs": [],
   "source": [
    "start = time.time()\n",
    "def DesignMatrix(data):\n",
    "    \n",
    "    row,col = np.shape(data)\n",
    "    designmat = np.empty((row,col+1))\n",
    "    designmat[:,0] = 1\n",
    "    for i in range(col):\n",
    "        designmat[:,i+1] = data[:,i]\n",
    "    \n",
    "    return designmat\n",
    "\n",
    "TrainDM = DesignMatrix(TrainX)"
   ]
  },
  {
   "cell_type": "markdown",
   "id": "f1982d70",
   "metadata": {},
   "source": [
    "We create a function which will randomly generate a vector of weights of a certain size"
   ]
  },
  {
   "cell_type": "code",
   "execution_count": 132,
   "id": "aaeac13a",
   "metadata": {},
   "outputs": [],
   "source": [
    "def Weights(size):\n",
    "    Θ = np.random.uniform(-0.5,0.5,size)\n",
    "    \n",
    "    return Θ\n",
    "\n",
    "## We have 4 Classes so we will have to generate 4 weight vectors to represent each class\n",
    "\n",
    "Θ1 = Weights(7)\n",
    "Θ2 = Weights(7) \n",
    "Θ3 = Weights(7)\n",
    "Θ4 = Weights(7)\n",
    "weights = [Θ1,Θ2,Θ3,Θ4]\n",
    "initial  = np.copy(weights)\n",
    "w2 = np.copy(weights)\n",
    "w3 = np.copy(weights)\n",
    "w4 = np.copy(weights)"
   ]
  },
  {
   "cell_type": "markdown",
   "id": "dfb80ac3",
   "metadata": {},
   "source": [
    "We are going to define the sigmoid function"
   ]
  },
  {
   "cell_type": "code",
   "execution_count": 133,
   "id": "2d642f54",
   "metadata": {},
   "outputs": [],
   "source": [
    "def sigmoid(x):\n",
    "    y = 1/(1+np.exp(-1*x))\n",
    "    return y\n",
    "\n",
    "def softmax(x,weights,index):\n",
    "    \n",
    "    numerator = np.exp(np.dot(x,weights[index]))\n",
    "    n = len(weights)\n",
    "    denominator = 0\n",
    "    for i in range(n):\n",
    "        denominator += np.exp(np.dot(x,weights[i]))\n",
    "        \n",
    "    softmax = numerator/denominator\n",
    "    return softmax\n",
    "\n"
   ]
  },
  {
   "cell_type": "markdown",
   "id": "fec67474",
   "metadata": {},
   "source": [
    "We are now going to implement Gradient Descent"
   ]
  },
  {
   "cell_type": "code",
   "execution_count": 134,
   "id": "e368a755",
   "metadata": {},
   "outputs": [],
   "source": [
    "def GradientDescent(Yvals,weights,DM,α,ϵ,maxIterations):\n",
    "    Θold1 = np.zeros(7)\n",
    "    Θold2 = np.zeros(7)\n",
    "    Θold3 = np.zeros(7)\n",
    "    Θold4 = np.zeros(7)\n",
    "    c1 = 1\n",
    "    c2 = 1\n",
    "    c3 = 1\n",
    "    c4 = 1\n",
    "    count = 0 \n",
    "    numClasses = len(weights)\n",
    "    length = np.shape(DM)[0]\n",
    "    while(count<maxIterations and(c1>ϵ or c2>ϵ or c3>ϵ or c4>ϵ ) ):\n",
    "        count+=1\n",
    "        Θold1 = np.copy(weights[0])\n",
    "        Θold2 = np.copy(weights[1])\n",
    "        Θold3 = np.copy(weights[2])\n",
    "        Θold4 = np.copy(weights[3])\n",
    "        \n",
    "        for i in range(numClasses):\n",
    "            y = -1\n",
    "            for j in range(length):\n",
    "                if(Yvals[j]==i):\n",
    "                    y = 1\n",
    "                else:\n",
    "                    y = 0\n",
    "        \n",
    "                weights[i] = weights[i]+α*((y-sigmoid(np.dot(DM[i],weights[i])))*DM[i])\n",
    "                #weights[i] = weights[i]+α*((y-softmax(DM[i],weights,i))*DM[i])\n",
    "               \n",
    "        c1 = np.linalg.norm(weights[0] - Θold1)\n",
    "        c2 = np.linalg.norm(weights[1] - Θold2)\n",
    "        c3 = np.linalg.norm(weights[2] - Θold3)\n",
    "        c4 = np.linalg.norm(weights[3] - Θold4)\n",
    "    \n",
    "    return weights\n",
    "\n",
    "\n",
    "w = GradientDescent(TrainY,weights,TrainDM,0.01,0.000000005,1000)"
   ]
  },
  {
   "cell_type": "code",
   "execution_count": 135,
   "id": "32497d4a",
   "metadata": {},
   "outputs": [],
   "source": [
    "def ConfusionMatrix(Actual,Predicted,numClasses):\n",
    "    \n",
    "    confusion = np.zeros((numClasses,numClasses))\n",
    "    \n",
    "    for i in range(len(Actual)):\n",
    "        \n",
    "          confusion[Predicted[i]][Actual[i]]+=1\n",
    "    \n",
    "    accuracy = (np.sum(np.diag(confusion))/np.sum(confusion))*100\n",
    "    return confusion,accuracy"
   ]
  },
  {
   "cell_type": "code",
   "execution_count": 136,
   "id": "dd12f87b",
   "metadata": {},
   "outputs": [],
   "source": [
    "def Prediction(weights,DM):\n",
    "    \n",
    "    pred = []\n",
    "    n = np.shape(DM)[0]\n",
    "    l = len(weights)\n",
    "    for i in range(n):\n",
    "        p =[]\n",
    "        x = DM[i]\n",
    "        for j in range(l):\n",
    "            p.append(softmax(x,weights,j))\n",
    "            \n",
    "        pred.append(p)\n",
    "        \n",
    "    final = []\n",
    "    for p in pred:\n",
    "\n",
    "        final.append(p.index(max(p)))\n",
    "        \n",
    "    return final\n",
    "Pred = Prediction(w,TrainDM)\n",
    "end = time.time()"
   ]
  },
  {
   "cell_type": "code",
   "execution_count": 137,
   "id": "b8baa7e1",
   "metadata": {},
   "outputs": [
    {
     "name": "stdout",
     "output_type": "stream",
     "text": [
      "The Training Confusion Matrix prior to the weight update is:\n",
      " [[ 66.   5.   7.   0.]\n",
      " [ 45.   0.   0.   0.]\n",
      " [583. 219.  33.  41.]\n",
      " [ 37.   1.   0.   0.]] \n",
      "\n",
      "The accuracy is: 9.546769527483125 %\n"
     ]
    }
   ],
   "source": [
    "ans = Prediction(initial,TrainDM)\n",
    "\n",
    "initConfusion = ConfusionMatrix(TrainY,ans,4)\n",
    "\n",
    "print(\"The Training Confusion Matrix prior to the weight update is:\\n\",initConfusion[0],\"\\n\")\n",
    "print(\"The accuracy is:\",initConfusion[1],\"%\")"
   ]
  },
  {
   "cell_type": "code",
   "execution_count": 138,
   "id": "8a13a65b",
   "metadata": {},
   "outputs": [
    {
     "name": "stdout",
     "output_type": "stream",
     "text": [
      "The Training Confusion Matrix is:\n",
      " [[684. 225.  40.  41.]\n",
      " [ 47.   0.   0.   0.]\n",
      " [  0.   0.   0.   0.]\n",
      " [  0.   0.   0.   0.]] \n",
      "\n",
      "The accuracy is: 65.95949855351977 %\n",
      "\n",
      "The Time taken is: 0.26281094551086426\n"
     ]
    }
   ],
   "source": [
    "mt = ConfusionMatrix(TrainY,Pred,4)\n",
    "\n",
    "print(\"The Training Confusion Matrix is:\\n\",mt[0],\"\\n\")\n",
    "print(\"The accuracy is:\",mt[1],\"%\\n\")\n",
    "print(\"The Time taken is:\",end-start)"
   ]
  },
  {
   "cell_type": "code",
   "execution_count": 139,
   "id": "3d665e0c",
   "metadata": {},
   "outputs": [
    {
     "name": "stdout",
     "output_type": "stream",
     "text": [
      "The Validation Confusion Matrix is:\n",
      " [[216.  86.  15.  13.]\n",
      " [ 16.   0.   0.   0.]\n",
      " [  0.   0.   0.   0.]\n",
      " [  0.   0.   0.   0.]] \n",
      "\n",
      "The accuracy is: 62.42774566473989 %\n"
     ]
    }
   ],
   "source": [
    "VDM = DesignMatrix(ValidationX)\n",
    "P = Prediction(w,VDM)\n",
    "vm = ConfusionMatrix(ValidationY,P,4)\n",
    "\n",
    "print(\"The Validation Confusion Matrix is:\\n\",vm[0],\"\\n\")\n",
    "print(\"The accuracy is:\",vm[1],\"%\")"
   ]
  },
  {
   "cell_type": "code",
   "execution_count": 140,
   "id": "430e9f50",
   "metadata": {},
   "outputs": [
    {
     "name": "stdout",
     "output_type": "stream",
     "text": [
      "The Validation Confusion Matrix is:\n",
      " [[197.  86.  15.  13.]\n",
      " [ 35.   0.   0.   0.]\n",
      " [  0.   0.   0.   0.]\n",
      " [  0.   0.   0.   0.]] \n",
      "\n",
      "The accuracy is: 56.936416184971094 %\n"
     ]
    }
   ],
   "source": [
    "w2 = GradientDescent(TrainY,w2,TrainDM,0.001,0.00000000005,1000)\n",
    "P2 = Prediction(w2,VDM)\n",
    "vm2 = ConfusionMatrix(ValidationY,P2,4)\n",
    "\n",
    "print(\"The Validation Confusion Matrix is:\\n\",vm2[0],\"\\n\")\n",
    "print(\"The accuracy is:\",vm2[1],\"%\")"
   ]
  },
  {
   "cell_type": "code",
   "execution_count": 141,
   "id": "24471f1d",
   "metadata": {},
   "outputs": [
    {
     "name": "stdout",
     "output_type": "stream",
     "text": [
      "The Validation Confusion Matrix is:\n",
      " [[ 16.   2.   3.   0.]\n",
      " [ 18.   0.   0.   0.]\n",
      " [192.  84.  12.  13.]\n",
      " [  6.   0.   0.   0.]] \n",
      "\n",
      "The accuracy is: 8.092485549132949 %\n"
     ]
    }
   ],
   "source": [
    "w3 = GradientDescent(TrainY,w3,TrainDM,0.0000000000000000001,0.005,1000)\n",
    "P3 = Prediction(w3,VDM)\n",
    "vm3 = ConfusionMatrix(ValidationY,P3,4)\n",
    "print(\"The Validation Confusion Matrix is:\\n\",vm3[0],\"\\n\")\n",
    "print(\"The accuracy is:\",vm3[1],\"%\")"
   ]
  },
  {
   "cell_type": "code",
   "execution_count": 142,
   "id": "cf3376ca",
   "metadata": {},
   "outputs": [
    {
     "name": "stdout",
     "output_type": "stream",
     "text": [
      "The Validation Confusion Matrix is:\n",
      " [[ 16.   2.   3.   0.]\n",
      " [ 18.   0.   0.   0.]\n",
      " [192.  84.  12.  13.]\n",
      " [  6.   0.   0.   0.]] \n",
      "\n",
      "The accuracy is: 8.092485549132949 %\n"
     ]
    }
   ],
   "source": [
    "w4 = GradientDescent(TrainY,w4,TrainDM,0.000000001,0.005,1000)\n",
    "P4 = Prediction(w4,VDM)\n",
    "vm4 = ConfusionMatrix(ValidationY,P4,4)\n",
    "print(\"The Validation Confusion Matrix is:\\n\",vm4[0],\"\\n\")\n",
    "print(\"The accuracy is:\",vm4[1],\"%\")"
   ]
  },
  {
   "cell_type": "markdown",
   "id": "46d34c6e",
   "metadata": {},
   "source": [
    "It is clear from the above that the best values for alpha and epsilon are 0.01 and 0.000000005 respectively."
   ]
  },
  {
   "cell_type": "code",
   "execution_count": 143,
   "id": "7581799a",
   "metadata": {},
   "outputs": [
    {
     "name": "stdout",
     "output_type": "stream",
     "text": [
      "The Testing Confusion Matrix is:\n",
      " [[230.  73.  14.  11.]\n",
      " [ 17.   0.   0.   0.]\n",
      " [  0.   0.   0.   0.]\n",
      " [  0.   0.   0.   0.]] \n",
      "\n",
      "The accuracy is: 66.66666666666666 %\n",
      "\n",
      "The Precision is: [93.11740891  0.          0.          0.        ] %\n",
      "\n",
      "The Recall is: [70.12195122  0.          0.          0.        ] %\n",
      "\n"
     ]
    },
    {
     "name": "stderr",
     "output_type": "stream",
     "text": [
      "/home/yaseen/anaconda3/lib/python3.7/site-packages/sklearn/metrics/_classification.py:1248: UndefinedMetricWarning: Recall is ill-defined and being set to 0.0 in labels with no true samples. Use `zero_division` parameter to control this behavior.\n",
      "  _warn_prf(average, modifier, msg_start, len(result))\n"
     ]
    }
   ],
   "source": [
    "TDM = DesignMatrix(TestX)\n",
    "PT = Prediction(w,TDM)\n",
    "tm = ConfusionMatrix(TestY,PT,4)\n",
    "\n",
    "print(\"The Testing Confusion Matrix is:\\n\",tm[0],\"\\n\")\n",
    "print(\"The accuracy is:\",tm[1],\"%\\n\")\n",
    "print(\"The Precision is:\",metrics.precision_score(PT,TestY.astype('int'),average=None)*100,\"%\\n\")\n",
    "print(\"The Recall is:\",metrics.recall_score(PT,TestY.astype('int'),average=None)*100,\"%\\n\")"
   ]
  },
  {
   "cell_type": "code",
   "execution_count": 144,
   "id": "ffff516e",
   "metadata": {},
   "outputs": [
    {
     "data": {
      "image/png": "[encoded data removed]",
      "text/plain": [
       "<Figure size 432x288 with 1 Axes>"
      ]
     },
     "metadata": {},
     "output_type": "display_data"
    }
   ],
   "source": [
    "plt.plot(np.arange(len(TestY)),TestY,label = \"Actual\")\n",
    "plt.plot(np.arange(len(TestY)),PT,label = \"Predicted\",color=\"red\")\n",
    "plt.xlabel(\"data-point\")\n",
    "plt.ylabel(\"target\")\n",
    "plt.title(\"Predicted VS Actual\")\n",
    "plt.legend(loc = 'upper right')\n",
    "plt.show()\n",
    "plt.close()"
   ]
  }
 ],
 "metadata": {
  "kernelspec": {
   "display_name": "Python 3",
   "language": "python",
   "name": "python3"
  },
  "language_info": {
   "codemirror_mode": {
    "name": "ipython",
    "version": 3
   },
   "file_extension": ".py",
   "mimetype": "text/x-python",
   "name": "python",
   "nbconvert_exporter": "python",
   "pygments_lexer": "ipython3",
   "version": "3.7.10"
  }
 },
 "nbformat": 4,
 "nbformat_minor": 5
}
